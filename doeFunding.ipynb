{
 "cells": [
  {
   "cell_type": "markdown",
   "metadata": {},
   "source": [
    "Pie Chart for Subfunction speanding based on Budgeting Reports (2021-2025)"
   ]
  },
  {
   "cell_type": "code",
   "execution_count": null,
   "metadata": {},
   "outputs": [],
   "source": [
    "import matplotlib.pyplot as plt\n",
    "\n",
    "# Budget allocation data\n",
    "labels = [\n",
    "    'DOE Funding ($1.6B)', 'Weatherize Homes ($385M)', 'Tribal Energy ($95M)',\n",
    "    'Clean Energy Supply Chains ($113M)', 'Grid Security ($102M)',\n",
    "    'Strategic Petroleum Reserve ($300M)', 'Climate Programs ($10.6B)',\n",
    "    'Industrial Pollution ($1B)', 'Transportation Tech ($900M)',\n",
    "    'Clean Energy R&D ($2.4B)', 'Vehicle Tech ($502M)',\n",
    "    'Bioenergy Tech ($280M)', 'Solar Tech ($318M)',\n",
    "    'Wind Tech ($199M)', 'Hydrogen & Fuel Cell ($179M)',\n",
    "    'Advanced Manufacturing ($500M)', 'Critical Minerals ($325M)',\n",
    "    'Methane Monitoring ($76M)', 'HALEU ($150M)', 'Fusion Energy ($845M)',\n",
    "    'Demo Projects ($30M)', 'Legacy Cleanup ($8.2B)',\n",
    "    'Hanford Cleanup ($3.1B)', 'Cold War Sites ($205M)',\n",
    "    'Community Grants ($55M)', 'Energy Solutions ($105M)',\n",
    "    'Workforce Development ($256M)', 'Office of Science ($8.6B)',\n",
    "    'Isotope Development ($98M)', 'AI Research ($455M)',\n",
    "    'Weapons Activities ($19.8B)'\n",
    "]\n",
    "sizes = [1600, 385, 95, 113, 102, 300, 10600, 1000, 900, 2400, 502, 280, 318, 199, 179, 500, 325, 76, 150, 845, 30, 8200, 3100, 205, 55, 105, 256, 8600, 98, 455, 19800]\n",
    "\n",
    "# Create pie chart\n",
    "plt.figure(figsize=(10, 10))\n",
    "plt.pie(sizes, labels=labels, autopct='%1.1f%%', startangle=140)\n",
    "plt.title('2025 Budget Allocation')\n",
    "plt.axis('equal')  # Equal aspect ratio ensures the pie is drawn as a circle.\n",
    "\n",
    "# Show the chart\n",
    "plt.show()\n"
   ]
  }
 ],
 "metadata": {
  "language_info": {
   "name": "python"
  }
 },
 "nbformat": 4,
 "nbformat_minor": 2
}
