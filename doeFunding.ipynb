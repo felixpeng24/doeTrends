{
 "cells": [
  {
   "cell_type": "markdown",
   "metadata": {},
   "source": [
    "Github Commit Testing"
   ]
  },
  {
   "cell_type": "code",
   "execution_count": null,
   "metadata": {},
   "outputs": [],
   "source": [
    "## git remote add origin https://github.com/felixpeng24/doeTrends.git\n",
    "## git branch -M main\n",
    "## git push -u origin main"
   ]
  }
 ],
 "metadata": {
  "language_info": {
   "name": "python"
  }
 },
 "nbformat": 4,
 "nbformat_minor": 2
}
